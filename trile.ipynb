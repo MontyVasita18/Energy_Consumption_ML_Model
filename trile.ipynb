{
 "cells": [
  {
   "cell_type": "code",
   "execution_count": 1,
   "metadata": {},
   "outputs": [],
   "source": [
    "import pandas as pd\n",
    "import numpy as np\n",
    "\n",
    "import seaborn as sns\n",
    "import matplotlib.pyplot as plt\n",
    "\n",
    "\n",
    "import warnings\n",
    "warnings.filterwarnings('ignore')\n"
   ]
  },
  {
   "cell_type": "code",
   "execution_count": 11,
   "metadata": {},
   "outputs": [
    {
     "data": {
      "text/html": [
       "<div>\n",
       "<style scoped>\n",
       "    .dataframe tbody tr th:only-of-type {\n",
       "        vertical-align: middle;\n",
       "    }\n",
       "\n",
       "    .dataframe tbody tr th {\n",
       "        vertical-align: top;\n",
       "    }\n",
       "\n",
       "    .dataframe thead th {\n",
       "        text-align: right;\n",
       "    }\n",
       "</style>\n",
       "<table border=\"1\" class=\"dataframe\">\n",
       "  <thead>\n",
       "    <tr style=\"text-align: right;\">\n",
       "      <th></th>\n",
       "      <th>Building Type</th>\n",
       "      <th>Square Footage</th>\n",
       "      <th>Number of Occupants</th>\n",
       "      <th>Appliances Used</th>\n",
       "      <th>Average Temperature</th>\n",
       "      <th>Day of Week</th>\n",
       "      <th>Energy Consumption</th>\n",
       "    </tr>\n",
       "  </thead>\n",
       "  <tbody>\n",
       "    <tr>\n",
       "      <th>17</th>\n",
       "      <td>Industrial</td>\n",
       "      <td>38446</td>\n",
       "      <td>97</td>\n",
       "      <td>20</td>\n",
       "      <td>23.99</td>\n",
       "      <td>Weekend</td>\n",
       "      <td>5672.37</td>\n",
       "    </tr>\n",
       "    <tr>\n",
       "      <th>230</th>\n",
       "      <td>Industrial</td>\n",
       "      <td>24660</td>\n",
       "      <td>32</td>\n",
       "      <td>5</td>\n",
       "      <td>23.67</td>\n",
       "      <td>Weekend</td>\n",
       "      <td>4034.64</td>\n",
       "    </tr>\n",
       "    <tr>\n",
       "      <th>282</th>\n",
       "      <td>Residential</td>\n",
       "      <td>22276</td>\n",
       "      <td>71</td>\n",
       "      <td>22</td>\n",
       "      <td>11.22</td>\n",
       "      <td>Weekday</td>\n",
       "      <td>3757.72</td>\n",
       "    </tr>\n",
       "    <tr>\n",
       "      <th>233</th>\n",
       "      <td>Residential</td>\n",
       "      <td>11803</td>\n",
       "      <td>32</td>\n",
       "      <td>1</td>\n",
       "      <td>27.57</td>\n",
       "      <td>Weekday</td>\n",
       "      <td>2342.32</td>\n",
       "    </tr>\n",
       "    <tr>\n",
       "      <th>226</th>\n",
       "      <td>Residential</td>\n",
       "      <td>15858</td>\n",
       "      <td>30</td>\n",
       "      <td>2</td>\n",
       "      <td>29.99</td>\n",
       "      <td>Weekend</td>\n",
       "      <td>2482.94</td>\n",
       "    </tr>\n",
       "    <tr>\n",
       "      <th>...</th>\n",
       "      <td>...</td>\n",
       "      <td>...</td>\n",
       "      <td>...</td>\n",
       "      <td>...</td>\n",
       "      <td>...</td>\n",
       "      <td>...</td>\n",
       "      <td>...</td>\n",
       "    </tr>\n",
       "    <tr>\n",
       "      <th>571</th>\n",
       "      <td>Commercial</td>\n",
       "      <td>12842</td>\n",
       "      <td>60</td>\n",
       "      <td>39</td>\n",
       "      <td>25.63</td>\n",
       "      <td>Weekend</td>\n",
       "      <td>3893.95</td>\n",
       "    </tr>\n",
       "    <tr>\n",
       "      <th>281</th>\n",
       "      <td>Commercial</td>\n",
       "      <td>26111</td>\n",
       "      <td>26</td>\n",
       "      <td>49</td>\n",
       "      <td>15.85</td>\n",
       "      <td>Weekday</td>\n",
       "      <td>4516.31</td>\n",
       "    </tr>\n",
       "    <tr>\n",
       "      <th>618</th>\n",
       "      <td>Commercial</td>\n",
       "      <td>41901</td>\n",
       "      <td>23</td>\n",
       "      <td>26</td>\n",
       "      <td>33.56</td>\n",
       "      <td>Weekend</td>\n",
       "      <td>4677.23</td>\n",
       "    </tr>\n",
       "    <tr>\n",
       "      <th>942</th>\n",
       "      <td>Residential</td>\n",
       "      <td>48785</td>\n",
       "      <td>84</td>\n",
       "      <td>6</td>\n",
       "      <td>20.48</td>\n",
       "      <td>Weekend</td>\n",
       "      <td>4796.83</td>\n",
       "    </tr>\n",
       "    <tr>\n",
       "      <th>950</th>\n",
       "      <td>Commercial</td>\n",
       "      <td>28904</td>\n",
       "      <td>3</td>\n",
       "      <td>3</td>\n",
       "      <td>32.11</td>\n",
       "      <td>Weekday</td>\n",
       "      <td>3424.66</td>\n",
       "    </tr>\n",
       "  </tbody>\n",
       "</table>\n",
       "<p>1000 rows × 7 columns</p>\n",
       "</div>"
      ],
      "text/plain": [
       "    Building Type  Square Footage  Number of Occupants  Appliances Used  \\\n",
       "17     Industrial           38446                   97               20   \n",
       "230    Industrial           24660                   32                5   \n",
       "282   Residential           22276                   71               22   \n",
       "233   Residential           11803                   32                1   \n",
       "226   Residential           15858                   30                2   \n",
       "..            ...             ...                  ...              ...   \n",
       "571    Commercial           12842                   60               39   \n",
       "281    Commercial           26111                   26               49   \n",
       "618    Commercial           41901                   23               26   \n",
       "942   Residential           48785                   84                6   \n",
       "950    Commercial           28904                    3                3   \n",
       "\n",
       "     Average Temperature Day of Week  Energy Consumption  \n",
       "17                 23.99     Weekend             5672.37  \n",
       "230                23.67     Weekend             4034.64  \n",
       "282                11.22     Weekday             3757.72  \n",
       "233                27.57     Weekday             2342.32  \n",
       "226                29.99     Weekend             2482.94  \n",
       "..                   ...         ...                 ...  \n",
       "571                25.63     Weekend             3893.95  \n",
       "281                15.85     Weekday             4516.31  \n",
       "618                33.56     Weekend             4677.23  \n",
       "942                20.48     Weekend             4796.83  \n",
       "950                32.11     Weekday             3424.66  \n",
       "\n",
       "[1000 rows x 7 columns]"
      ]
     },
     "execution_count": 11,
     "metadata": {},
     "output_type": "execute_result"
    }
   ],
   "source": [
    "\n",
    "url=\"https://raw.githubusercontent.com/MontyVasita18/Energy_Consumption_ML_Model/refs/heads/main/train_energy_data.csv\"\n",
    "df=pd.read_csv(url)\n",
    "\n",
    "df.sample(frac=1)"
   ]
  },
  {
   "cell_type": "code",
   "execution_count": 12,
   "metadata": {},
   "outputs": [
    {
     "name": "stdout",
     "output_type": "stream",
     "text": [
      "<class 'pandas.core.frame.DataFrame'>\n",
      "RangeIndex: 1000 entries, 0 to 999\n",
      "Data columns (total 7 columns):\n",
      " #   Column               Non-Null Count  Dtype  \n",
      "---  ------               --------------  -----  \n",
      " 0   Building Type        1000 non-null   object \n",
      " 1   Square Footage       1000 non-null   int64  \n",
      " 2   Number of Occupants  1000 non-null   int64  \n",
      " 3   Appliances Used      1000 non-null   int64  \n",
      " 4   Average Temperature  1000 non-null   float64\n",
      " 5   Day of Week          1000 non-null   object \n",
      " 6   Energy Consumption   1000 non-null   float64\n",
      "dtypes: float64(2), int64(3), object(2)\n",
      "memory usage: 54.8+ KB\n"
     ]
    }
   ],
   "source": [
    "df.info()"
   ]
  },
  {
   "cell_type": "code",
   "execution_count": 13,
   "metadata": {},
   "outputs": [
    {
     "data": {
      "text/plain": [
       "Building Type          0\n",
       "Square Footage         0\n",
       "Number of Occupants    0\n",
       "Appliances Used        0\n",
       "Average Temperature    0\n",
       "Day of Week            0\n",
       "Energy Consumption     0\n",
       "dtype: int64"
      ]
     },
     "execution_count": 13,
     "metadata": {},
     "output_type": "execute_result"
    }
   ],
   "source": [
    "df.isnull().sum()"
   ]
  },
  {
   "cell_type": "code",
   "execution_count": 24,
   "metadata": {},
   "outputs": [
    {
     "data": {
      "text/html": [
       "<div>\n",
       "<style scoped>\n",
       "    .dataframe tbody tr th:only-of-type {\n",
       "        vertical-align: middle;\n",
       "    }\n",
       "\n",
       "    .dataframe tbody tr th {\n",
       "        vertical-align: top;\n",
       "    }\n",
       "\n",
       "    .dataframe thead th {\n",
       "        text-align: right;\n",
       "    }\n",
       "</style>\n",
       "<table border=\"1\" class=\"dataframe\">\n",
       "  <thead>\n",
       "    <tr style=\"text-align: right;\">\n",
       "      <th></th>\n",
       "      <th>Features</th>\n",
       "      <th>mean</th>\n",
       "      <th>median</th>\n",
       "      <th>25%</th>\n",
       "      <th>75%</th>\n",
       "      <th>Kurtosis</th>\n",
       "      <th>Skewness</th>\n",
       "      <th>Standard Deviation</th>\n",
       "    </tr>\n",
       "  </thead>\n",
       "  <tbody>\n",
       "    <tr>\n",
       "      <th>0</th>\n",
       "      <td>Square Footage</td>\n",
       "      <td>25462.38800</td>\n",
       "      <td>25477.000</td>\n",
       "      <td>13169.7500</td>\n",
       "      <td>37446.25</td>\n",
       "      <td>-1.175406</td>\n",
       "      <td>0.009313</td>\n",
       "      <td>14294.554000</td>\n",
       "    </tr>\n",
       "    <tr>\n",
       "      <th>1</th>\n",
       "      <td>Number of Occupants</td>\n",
       "      <td>48.37200</td>\n",
       "      <td>47.000</td>\n",
       "      <td>22.0000</td>\n",
       "      <td>73.25</td>\n",
       "      <td>-1.241970</td>\n",
       "      <td>0.089302</td>\n",
       "      <td>29.061972</td>\n",
       "    </tr>\n",
       "    <tr>\n",
       "      <th>2</th>\n",
       "      <td>Appliances Used</td>\n",
       "      <td>25.60600</td>\n",
       "      <td>26.000</td>\n",
       "      <td>13.0000</td>\n",
       "      <td>38.00</td>\n",
       "      <td>-1.196605</td>\n",
       "      <td>-0.037392</td>\n",
       "      <td>14.105166</td>\n",
       "    </tr>\n",
       "    <tr>\n",
       "      <th>3</th>\n",
       "      <td>Average Temperature</td>\n",
       "      <td>22.61139</td>\n",
       "      <td>22.815</td>\n",
       "      <td>16.4750</td>\n",
       "      <td>28.85</td>\n",
       "      <td>-1.180404</td>\n",
       "      <td>-0.040406</td>\n",
       "      <td>7.139943</td>\n",
       "    </tr>\n",
       "    <tr>\n",
       "      <th>4</th>\n",
       "      <td>Energy Consumption</td>\n",
       "      <td>4166.25257</td>\n",
       "      <td>4175.730</td>\n",
       "      <td>3509.4825</td>\n",
       "      <td>4863.85</td>\n",
       "      <td>-0.575224</td>\n",
       "      <td>-0.046241</td>\n",
       "      <td>933.313064</td>\n",
       "    </tr>\n",
       "  </tbody>\n",
       "</table>\n",
       "</div>"
      ],
      "text/plain": [
       "              Features         mean     median         25%       75%  \\\n",
       "0       Square Footage  25462.38800  25477.000  13169.7500  37446.25   \n",
       "1  Number of Occupants     48.37200     47.000     22.0000     73.25   \n",
       "2      Appliances Used     25.60600     26.000     13.0000     38.00   \n",
       "3  Average Temperature     22.61139     22.815     16.4750     28.85   \n",
       "4   Energy Consumption   4166.25257   4175.730   3509.4825   4863.85   \n",
       "\n",
       "   Kurtosis  Skewness  Standard Deviation  \n",
       "0 -1.175406  0.009313        14294.554000  \n",
       "1 -1.241970  0.089302           29.061972  \n",
       "2 -1.196605 -0.037392           14.105166  \n",
       "3 -1.180404 -0.040406            7.139943  \n",
       "4 -0.575224 -0.046241          933.313064  "
      ]
     },
     "execution_count": 24,
     "metadata": {},
     "output_type": "execute_result"
    }
   ],
   "source": [
    "from collections import OrderedDict\n",
    "\n",
    "stats=[]\n",
    "for i in df.columns:\n",
    "    if df[i].dtype!=\"object\":\n",
    "        numerical_stats=OrderedDict({\n",
    "            'Features':i,\n",
    "            'mean':df[i].mean(),\n",
    "            'median':df[i].median(),\n",
    "            '25%':df[i].quantile(0.25),\n",
    "            '75%':df[i].quantile(0.75),\n",
    "            'Kurtosis':df[i].kurt(),\n",
    "            'Skewness':df[i].skew(),\n",
    "            'Standard Deviation':df[i].std()\n",
    "        })\n",
    "        stats.append(numerical_stats)\n",
    "        report=pd.DataFrame(stats)\n",
    "report\n",
    "        \n"
   ]
  },
  {
   "cell_type": "code",
   "execution_count": 25,
   "metadata": {},
   "outputs": [
    {
     "data": {
      "text/html": [
       "<div>\n",
       "<style scoped>\n",
       "    .dataframe tbody tr th:only-of-type {\n",
       "        vertical-align: middle;\n",
       "    }\n",
       "\n",
       "    .dataframe tbody tr th {\n",
       "        vertical-align: top;\n",
       "    }\n",
       "\n",
       "    .dataframe thead th {\n",
       "        text-align: right;\n",
       "    }\n",
       "</style>\n",
       "<table border=\"1\" class=\"dataframe\">\n",
       "  <thead>\n",
       "    <tr style=\"text-align: right;\">\n",
       "      <th></th>\n",
       "      <th>Building Type</th>\n",
       "      <th>Square Footage</th>\n",
       "      <th>Number of Occupants</th>\n",
       "      <th>Appliances Used</th>\n",
       "      <th>Average Temperature</th>\n",
       "      <th>Day of Week</th>\n",
       "      <th>Energy Consumption</th>\n",
       "    </tr>\n",
       "  </thead>\n",
       "  <tbody>\n",
       "    <tr>\n",
       "      <th>0</th>\n",
       "      <td>Residential</td>\n",
       "      <td>7063</td>\n",
       "      <td>76</td>\n",
       "      <td>10</td>\n",
       "      <td>29.84</td>\n",
       "      <td>Weekday</td>\n",
       "      <td>2713.95</td>\n",
       "    </tr>\n",
       "    <tr>\n",
       "      <th>1</th>\n",
       "      <td>Commercial</td>\n",
       "      <td>44372</td>\n",
       "      <td>66</td>\n",
       "      <td>45</td>\n",
       "      <td>16.72</td>\n",
       "      <td>Weekday</td>\n",
       "      <td>5744.99</td>\n",
       "    </tr>\n",
       "    <tr>\n",
       "      <th>2</th>\n",
       "      <td>Industrial</td>\n",
       "      <td>19255</td>\n",
       "      <td>37</td>\n",
       "      <td>17</td>\n",
       "      <td>14.30</td>\n",
       "      <td>Weekend</td>\n",
       "      <td>4101.24</td>\n",
       "    </tr>\n",
       "    <tr>\n",
       "      <th>3</th>\n",
       "      <td>Residential</td>\n",
       "      <td>13265</td>\n",
       "      <td>14</td>\n",
       "      <td>41</td>\n",
       "      <td>32.82</td>\n",
       "      <td>Weekday</td>\n",
       "      <td>3009.14</td>\n",
       "    </tr>\n",
       "    <tr>\n",
       "      <th>4</th>\n",
       "      <td>Commercial</td>\n",
       "      <td>13375</td>\n",
       "      <td>26</td>\n",
       "      <td>18</td>\n",
       "      <td>11.92</td>\n",
       "      <td>Weekday</td>\n",
       "      <td>3279.17</td>\n",
       "    </tr>\n",
       "    <tr>\n",
       "      <th>...</th>\n",
       "      <td>...</td>\n",
       "      <td>...</td>\n",
       "      <td>...</td>\n",
       "      <td>...</td>\n",
       "      <td>...</td>\n",
       "      <td>...</td>\n",
       "      <td>...</td>\n",
       "    </tr>\n",
       "    <tr>\n",
       "      <th>995</th>\n",
       "      <td>Residential</td>\n",
       "      <td>14419</td>\n",
       "      <td>68</td>\n",
       "      <td>44</td>\n",
       "      <td>23.95</td>\n",
       "      <td>Weekend</td>\n",
       "      <td>3661.21</td>\n",
       "    </tr>\n",
       "    <tr>\n",
       "      <th>996</th>\n",
       "      <td>Industrial</td>\n",
       "      <td>12194</td>\n",
       "      <td>7</td>\n",
       "      <td>22</td>\n",
       "      <td>14.67</td>\n",
       "      <td>Weekend</td>\n",
       "      <td>3546.34</td>\n",
       "    </tr>\n",
       "    <tr>\n",
       "      <th>997</th>\n",
       "      <td>Commercial</td>\n",
       "      <td>39562</td>\n",
       "      <td>88</td>\n",
       "      <td>20</td>\n",
       "      <td>32.18</td>\n",
       "      <td>Weekday</td>\n",
       "      <td>5147.21</td>\n",
       "    </tr>\n",
       "    <tr>\n",
       "      <th>998</th>\n",
       "      <td>Residential</td>\n",
       "      <td>8348</td>\n",
       "      <td>67</td>\n",
       "      <td>37</td>\n",
       "      <td>16.48</td>\n",
       "      <td>Weekend</td>\n",
       "      <td>3244.98</td>\n",
       "    </tr>\n",
       "    <tr>\n",
       "      <th>999</th>\n",
       "      <td>Commercial</td>\n",
       "      <td>15813</td>\n",
       "      <td>57</td>\n",
       "      <td>11</td>\n",
       "      <td>31.40</td>\n",
       "      <td>Weekend</td>\n",
       "      <td>3423.63</td>\n",
       "    </tr>\n",
       "  </tbody>\n",
       "</table>\n",
       "<p>1000 rows × 7 columns</p>\n",
       "</div>"
      ],
      "text/plain": [
       "    Building Type  Square Footage  Number of Occupants  Appliances Used  \\\n",
       "0     Residential            7063                   76               10   \n",
       "1      Commercial           44372                   66               45   \n",
       "2      Industrial           19255                   37               17   \n",
       "3     Residential           13265                   14               41   \n",
       "4      Commercial           13375                   26               18   \n",
       "..            ...             ...                  ...              ...   \n",
       "995   Residential           14419                   68               44   \n",
       "996    Industrial           12194                    7               22   \n",
       "997    Commercial           39562                   88               20   \n",
       "998   Residential            8348                   67               37   \n",
       "999    Commercial           15813                   57               11   \n",
       "\n",
       "     Average Temperature Day of Week  Energy Consumption  \n",
       "0                  29.84     Weekday             2713.95  \n",
       "1                  16.72     Weekday             5744.99  \n",
       "2                  14.30     Weekend             4101.24  \n",
       "3                  32.82     Weekday             3009.14  \n",
       "4                  11.92     Weekday             3279.17  \n",
       "..                   ...         ...                 ...  \n",
       "995                23.95     Weekend             3661.21  \n",
       "996                14.67     Weekend             3546.34  \n",
       "997                32.18     Weekday             5147.21  \n",
       "998                16.48     Weekend             3244.98  \n",
       "999                31.40     Weekend             3423.63  \n",
       "\n",
       "[1000 rows x 7 columns]"
      ]
     },
     "execution_count": 25,
     "metadata": {},
     "output_type": "execute_result"
    }
   ],
   "source": [
    "df"
   ]
  },
  {
   "cell_type": "code",
   "execution_count": 45,
   "metadata": {},
   "outputs": [
    {
     "data": {
      "text/plain": [
       "<Axes: >"
      ]
     },
     "execution_count": 45,
     "metadata": {},
     "output_type": "execute_result"
    },
    {
     "data": {
      "image/png": "[encoded data removed]",
      "text/plain": [
       "<Figure size 1500x500 with 1 Axes>"
      ]
     },
     "metadata": {},
     "output_type": "display_data"
    }
   ],
   "source": [
    "# Checking outliers using Box Plot\n",
    "plt.figure(figsize=(15,5))\n",
    "sns.boxplot(df)"
   ]
  },
  {
   "cell_type": "code",
   "execution_count": 32,
   "metadata": {},
   "outputs": [],
   "source": [
    "# Using Lebel Encoding\n",
    "from sklearn.preprocessing import LabelEncoder\n",
    "le=LabelEncoder()\n",
    "\n",
    "df[\"Building Type\"]=le.fit_transform(df['Building Type'])\n",
    "df[\"Day of Week\"]=le.fit_transform(df['Day of Week'])\n",
    "\n",
    "\n"
   ]
  },
  {
   "cell_type": "code",
   "execution_count": 34,
   "metadata": {},
   "outputs": [
    {
     "data": {
      "text/plain": [
       "0      2713.95\n",
       "1      5744.99\n",
       "2      4101.24\n",
       "3      3009.14\n",
       "4      3279.17\n",
       "        ...   \n",
       "995    3661.21\n",
       "996    3546.34\n",
       "997    5147.21\n",
       "998    3244.98\n",
       "999    3423.63\n",
       "Name: Energy Consumption, Length: 1000, dtype: float64"
      ]
     },
     "execution_count": 34,
     "metadata": {},
     "output_type": "execute_result"
    }
   ],
   "source": [
    "X=df.drop(columns='Energy Consumption')\n",
    "y=df['Energy Consumption']"
   ]
  },
  {
   "cell_type": "code",
   "execution_count": 36,
   "metadata": {},
   "outputs": [],
   "source": [
    "from sklearn.model_selection import train_test_split\n",
    "\n",
    "X_train,X_test,y_train,y_test= train_test_split(X,y,train_size=0.80,random_state=42)"
   ]
  },
  {
   "cell_type": "markdown",
   "metadata": {},
   "source": [
    "                          \n",
    "                                    As Our Data Is Normaly We Standard Scaler "
   ]
  },
  {
   "cell_type": "code",
   "execution_count": 47,
   "metadata": {},
   "outputs": [],
   "source": [
    "from sklearn.preprocessing import StandardScaler\n",
    "\n",
    "scaler=StandardScaler()\n",
    "X_train=scaler.fit_transform(X_train)\n",
    "X_test=scaler.transform(X_test)"
   ]
  },
  {
   "cell_type": "markdown",
   "metadata": {},
   "source": [
    "# **Algorithm**"
   ]
  },
  {
   "cell_type": "markdown",
   "metadata": {},
   "source": [
    "                                                 LinerRegression"
   ]
  },
  {
   "cell_type": "code",
   "execution_count": 57,
   "metadata": {},
   "outputs": [
    {
     "data": {
      "text/plain": [
       "81.22499080180118"
      ]
     },
     "execution_count": 57,
     "metadata": {},
     "output_type": "execute_result"
    }
   ],
   "source": [
    "from sklearn.linear_model import LinearRegression\n",
    "from sklearn.metrics import r2_score\n",
    "\n",
    "Lr=LinearRegression()\n",
    "Lr.fit(X_train,y_train)\n",
    "y_pred_LR=Lr.predict(X_test)\n",
    "\n",
    "\n",
    "r2_score_Lr=r2_score(y_pred_LR,y_test)*100\n",
    "\n",
    "r2_score_Lr\n",
    "\n"
   ]
  },
  {
   "cell_type": "markdown",
   "metadata": {},
   "source": [
    "                                                Decision Tree Regressor"
   ]
  },
  {
   "cell_type": "code",
   "execution_count": 58,
   "metadata": {},
   "outputs": [
    {
     "data": {
      "text/plain": [
       "92.65625966094123"
      ]
     },
     "execution_count": 58,
     "metadata": {},
     "output_type": "execute_result"
    }
   ],
   "source": [
    "from sklearn.tree import DecisionTreeRegressor\n",
    "\n",
    "Dt=DecisionTreeRegressor()\n",
    "Dt.fit(X_train,y_train)\n",
    "y_pred_Dt=Dt.predict(X_test)\n",
    "\n",
    "\n",
    "r2_score_Dt=r2_score(y_pred_Dt,y_test)*100\n",
    "r2_score_Dt"
   ]
  },
  {
   "cell_type": "markdown",
   "metadata": {},
   "source": [
    "                                                Random Forest Regressor"
   ]
  },
  {
   "cell_type": "code",
   "execution_count": 59,
   "metadata": {},
   "outputs": [
    {
     "data": {
      "text/plain": [
       "97.3326277232487"
      ]
     },
     "execution_count": 59,
     "metadata": {},
     "output_type": "execute_result"
    }
   ],
   "source": [
    "from sklearn.ensemble import RandomForestRegressor\n",
    "Rf=RandomForestRegressor()\n",
    "Rf.fit(X_train,y_train)\n",
    "y_pred_Rf=Rf.predict(X_test)\n",
    "\n",
    "r2_score_Rf=r2_score(y_pred_Rf,y_test)*100\n",
    "\n",
    "r2_score_Rf"
   ]
  },
  {
   "cell_type": "code",
   "execution_count": null,
   "metadata": {},
   "outputs": [],
   "source": []
  }
 ],
 "metadata": {
  "kernelspec": {
   "display_name": "Python 3.12.1 64-bit",
   "language": "python",
   "name": "python3"
  },
  "language_info": {
   "codemirror_mode": {
    "name": "ipython",
    "version": 3
   },
   "file_extension": ".py",
   "mimetype": "text/x-python",
   "name": "python",
   "nbconvert_exporter": "python",
   "pygments_lexer": "ipython3",
   "version": "3.12.1"
  },
  "orig_nbformat": 4,
  "vscode": {
   "interpreter": {
    "hash": "3fcbd7240ee8f908d933dc7f71e8c42a1a91163b70ede8dcff5146d4087436c7"
   }
  }
 },
 "nbformat": 4,
 "nbformat_minor": 2
}
